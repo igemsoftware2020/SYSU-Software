{
 "cells": [
  {
   "cell_type": "code",
   "execution_count": 2,
   "metadata": {},
   "outputs": [
    {
     "name": "stderr",
     "output_type": "stream",
     "text": [
      "  0%|          | 0/1243 [00:00<?, ?it/s]"
     ]
    },
    {
     "name": "stdout",
     "output_type": "stream",
     "text": [
      "19133\n"
     ]
    },
    {
     "name": "stderr",
     "output_type": "stream",
     "text": [
      "100%|██████████| 1243/1243 [01:41<00:00, 12.23it/s]\n"
     ]
    },
    {
     "data": {
      "image/png": "[encoded data removed]",
      "text/plain": [
       "<Figure size 432x288 with 1 Axes>"
      ]
     },
     "metadata": {
      "needs_background": "light"
     },
     "output_type": "display_data"
    }
   ],
   "source": [
    "\n",
    "import numpy as np\n",
    "import pandas as pd\n",
    "from PIL import Image\n",
    "import torch\n",
    "from torch import optim, nn\n",
    "import torch.nn.functional as F\n",
    "from torchvision import transforms\n",
    "from torch.utils.data.dataset import Dataset\n",
    "from data_process.read_data import DatasetFromCSV\n",
    "import torch\n",
    "from torch.autograd import Variable\n",
    "from torch.nn import Conv2d,Module,Sequential,ReLU,MaxPool2d,Linear,Dropout,Softmax,MSELoss\n",
    "from torch.utils.data import DataLoader,TensorDataset\n",
    "import os\n",
    "import numpy as np\n",
    "import struct\n",
    "from tqdm import tqdm\n",
    "from model.mdel import MyNet\n",
    "import matplotlib.pyplot as plt\n",
    "transform = transforms.Compose([transforms.ToTensor()])\n",
    "batch_size = 1\n",
    "test_data = DatasetFromCSV(r'/home/mist/iGEM-CNN-Regression/data_process/test_file.csv', transform)\n",
    "test_loader = torch.utils.data.DataLoader(test_data, batch_size=batch_size)\n",
    "\n",
    "net = MyNet()\n",
    "net.load_state_dict(torch.load('model.pth'))\n",
    "list_output = []\n",
    "list_real = []\n",
    "for data_X, data_tf, data_y in tqdm(test_loader):\n",
    "    trainData, trainTF, trainLabel = Variable(data_X), Variable(data_tf), Variable(data_y)\n",
    "    output = net(trainData.type(torch.FloatTensor), trainTF.cuda().type(torch.FloatTensor))\n",
    "    list_output.append(output.data.cpu().numpy()[-1][0])\n",
    "    list_real.append(data_y.data.cpu().numpy()[-1])\n",
    "\n",
    "plt.title('train loss')\n",
    "plt.plot(range(0,len(list_output)), list_output, color='green', label='predict')\n",
    "plt.plot(range(0,len(list_real)), list_real, color='red', label='real')\n",
    "plt.grid()\n",
    "plt.xlabel('epoch')\n",
    "plt.ylabel('loss')\n",
    "plt.show()"
   ]
  },
  {
   "cell_type": "code",
   "execution_count": null,
   "metadata": {},
   "outputs": [],
   "source": []
  }
 ],
 "metadata": {
  "kernelspec": {
   "display_name": "Python 3",
   "language": "python",
   "name": "python3"
  },
  "language_info": {
   "codemirror_mode": {
    "name": "ipython",
    "version": 3
   },
   "file_extension": ".py",
   "mimetype": "text/x-python",
   "name": "python",
   "nbconvert_exporter": "python",
   "pygments_lexer": "ipython3",
   "version": "3.6.9"
  }
 },
 "nbformat": 4,
 "nbformat_minor": 4
}
